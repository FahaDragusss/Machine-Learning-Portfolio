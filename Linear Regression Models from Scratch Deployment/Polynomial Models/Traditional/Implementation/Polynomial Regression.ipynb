{
 "cells": [
  {
   "cell_type": "markdown",
   "id": "3f4833db",
   "metadata": {},
   "source": [
    "# **Polynomial Regression From scratch**"
   ]
  },
  {
   "cell_type": "code",
   "execution_count": 21,
   "id": "edf89e15",
   "metadata": {},
   "outputs": [],
   "source": [
    "import pandas as pd\n",
    "import numpy as np\n",
    "from itertools import combinations_with_replacement\n",
    "import matplotlib.pyplot as plt\n",
    "\n",
    "# Load data\n",
    "df = pd.read_csv(\"Fuel-type-E.csv\")\n",
    "\n",
    "# Separate features (X) and target (y)\n",
    "X = df.drop('CO2 Emissions(g/km)', axis=1).values\n",
    "y = df['CO2 Emissions(g/km)'].values.reshape(-1, 1)"
   ]
  },
  {
   "cell_type": "markdown",
   "id": "b92b3f78",
   "metadata": {},
   "source": [
    "# Funtions"
   ]
  },
  {
   "cell_type": "code",
   "execution_count": 22,
   "id": "4d3563dc",
   "metadata": {},
   "outputs": [],
   "source": [
    "def save_weights_to_npy(w, b, std, mean, weight_file=\"weights_poly_trad.npy\", bias_file=\"bias_poly_trad.npy\"\n",
    "                        , std_file=\"std_poly_trad.npy\", mean_file=\"mean_poly_trad.npy\"):\n",
    "    np.save(weight_file, w)\n",
    "    np.save(bias_file, np.array([b]))\n",
    "    np.save(std_file, std)\n",
    "    np.save(mean_file, mean)\n",
    "\n",
    "def polynomial_features(X, degree):\n",
    "    \"\"\"\n",
    "    Generate polynomial features for input matrix X up to a given degree.\n",
    "    Parameters:\n",
    "        X: numpy array of shape (m, n)\n",
    "        degree: int, highest polynomial degree to generate\n",
    "    Returns:\n",
    "        X_poly: numpy array of shape (m, num_features)\n",
    "    \"\"\"\n",
    "    m, n = X.shape\n",
    "    features = [np.ones((m, 1))]  # Bias term: degree 0\n",
    "    \n",
    "    for deg in range(1, degree + 1):\n",
    "        for combo in combinations_with_replacement(range(n), deg):\n",
    "            # Multiply columns based on index combo\n",
    "            col = np.ones(m)\n",
    "            for idx in combo:\n",
    "                col *= X[:, idx]\n",
    "            features.append(col.reshape(-1, 1))\n",
    "    \n",
    "    return np.hstack(features)\n",
    "\n",
    "def compute_cost(x, y, w, b):\n",
    "    m,n = x.shape\n",
    "\n",
    "    f_wb = np.dot(x,w) + b\n",
    "    cost = (1/(2 *m)) * np.sum((f_wb - y)**2)\n",
    "    return cost\n",
    "    \n",
    "def compute_gradient(x, y, w, b):\n",
    "    m = x.shape[0]\n",
    "\n",
    "    f_wb = np.dot(x, w) + b          # shape (m, 1)\n",
    "    error = f_wb - y                 # shape (m, 1)\n",
    "\n",
    "    dj_dw = (1/m) * np.dot(x.T, error)  # shape (n, 1)\n",
    "    dj_db = (1/m) * np.sum(error)       # scalar\n",
    "\n",
    "    return dj_dw, dj_db\n",
    "\n",
    "def gradient_descent(lr, x, y, w, b, method, previous_cost, threshold, max_iters):\n",
    "    \n",
    "    m = x.shape[0]\n",
    "    iters = 0\n",
    "\n",
    "    #Logs for tracking\n",
    "    cost_log = []\n",
    "    iteration_log = []\n",
    "    weight_log = []\n",
    "    bias_log = []\n",
    "\n",
    "    method = method.lower()\n",
    "\n",
    "    if method == 'adam':\n",
    "        \n",
    "        v_w, v_b, s_w, s_b = np.zeros_like(w), 0.0, np.zeros_like(w), 0.0\n",
    "        beta1 = 0.9\n",
    "        beta2 = 0.999\n",
    "        epsilon = 1e-8\n",
    "\n",
    "        while True:\n",
    "\n",
    "            dj_dw, dj_db = compute_gradient(x, y, w, b)\n",
    "\n",
    "            v_w_corrected, v_b_corrected, s_w_corrected, s_b_corrected, v_w, v_b, s_w, s_b = compute_adam_update(dj_dw, dj_db, v_w, v_b, s_w, s_b, beta1, beta2, iters)\n",
    "            \n",
    "            w -= lr * v_w_corrected / (np.sqrt(s_w_corrected) + epsilon)\n",
    "            b -= lr * v_b_corrected / (np.sqrt(s_b_corrected) + epsilon)\n",
    "            \n",
    "            current_cost = compute_cost(x, y, w, b)\n",
    "\n",
    "            # if iters % 100 == 0:\n",
    "            #     print(f\"Iteration {iters} | Cost: {current_cost:.5f} | w: {w.ravel()} | b: {b:.5f}\")\n",
    "\n",
    "                # Log the cost, iteration, weights, and bias\n",
    "                # if iters < 1001 and iters % 100 == 0 and iters > 1:\n",
    "                #     cost_log.append(current_cost)\n",
    "                #     iteration_log.append(iters)\n",
    "                #     weight_log.append(w.flatten().tolist())  # Save as list\n",
    "                #     bias_log.append(b)\n",
    "                # elif iters < 10000 and iters > 1001 and iters % 1000 == 0:\n",
    "                #     cost_log.append(current_cost)\n",
    "                #     iteration_log.append(iters)\n",
    "                #     weight_log.append(w.flatten().tolist())  # Save as list\n",
    "                #     bias_log.append(b)\n",
    "\n",
    "            if abs(current_cost - previous_cost) < threshold:\n",
    "                print(f\"Converged in {iters} iterations.\")\n",
    "                break\n",
    "            \n",
    "            previous_cost = current_cost\n",
    "            iters += 1\n",
    "\n",
    "            if iters >= max_iters:\n",
    "                print(\"Stopped: Max iterations reached.\")\n",
    "                break\n",
    "\n",
    "\n",
    "    elif method == 'vanilla' or method == 'gd':\n",
    "        while True:\n",
    "            \n",
    "            dj_dw, dj_db = compute_gradient(x, y, w, b)\n",
    "\n",
    "            w = w - (lr/m)*(dj_dw)\n",
    "            b = b - (lr/m)*(dj_db)\n",
    "\n",
    "            current_cost = compute_cost(x, y, w, b)\n",
    "\n",
    "            # if iters % 100 == 0:\n",
    "            #     print(f\"Iteration {iters} | Cost: {current_cost:.5f} | w: {w.ravel()} | b: {b:.5f}\")\n",
    "                \n",
    "                # Log the cost, iteration, weights, and bias\n",
    "                # if iters < 1001 and iters % 100 == 0 and iters > 1:\n",
    "                #     cost_log.append(current_cost)\n",
    "                #     iteration_log.append(iters)\n",
    "                #     weight_log.append(w.flatten().tolist())  # Save as list\n",
    "                #     bias_log.append(b)\n",
    "                # elif iters < 10000 and iters > 1001 and iters % 1000 == 0:\n",
    "                #     cost_log.append(current_cost)\n",
    "                #     iteration_log.append(iters)\n",
    "                #     weight_log.append(w.flatten().tolist())  # Save as list\n",
    "                #     bias_log.append(b)\n",
    "             \n",
    "            if abs(current_cost-previous_cost) < threshold:\n",
    "                print(f\"Converged in {iters} iterations.\")\n",
    "                break\n",
    "\n",
    "            previous_cost = current_cost\n",
    "            iters += 1\n",
    "            if iters >= max_iters:\n",
    "                print(\"Stopped: Max iterations reached.\")\n",
    "                break\n",
    "\n",
    "    else:\n",
    "        raise ValueError(f\"Unsupported optimization method: {method}\")\n",
    "\n",
    "    return w , b #,cost_log , iteration_log , weight_log , bias_log\n",
    "\n",
    "def predict(x_test_scaled, w, b):\n",
    "    return np.dot(x_test_scaled,w) + b\n",
    "\n",
    "def compute_adam_update(dj_dw, dj_db, v_w, v_b, s_w, s_b, beta1 , beta2  , iters):\n",
    "    # Update biased first moment estimates\n",
    "    v_w = beta1 * v_w + (1 - beta1) * dj_dw\n",
    "    v_b = beta1 * v_b + (1 - beta1) * dj_db\n",
    "\n",
    "    # Update biased second moment estimates\n",
    "    s_w = beta2 * s_w + (1 - beta2) * (dj_dw ** 2)\n",
    "    s_b = beta2 * s_b + (1 - beta2) * (dj_db ** 2)\n",
    "\n",
    "    # Compute bias-corrected first moment estimates\n",
    "    v_w_corrected = v_w / (1 - beta1 ** (iters + 1))\n",
    "    v_b_corrected = v_b / (1 - beta1 ** (iters + 1))\n",
    "\n",
    "    # Compute bias-corrected second moment estimates\n",
    "    s_w_corrected = s_w / (1 - beta2 ** (iters + 1))\n",
    "    s_b_corrected = s_b / (1 - beta2 ** (iters + 1))\n",
    "\n",
    "    return v_w_corrected, v_b_corrected, s_w_corrected, s_b_corrected, v_w, v_b, s_w, s_b\n",
    "\n",
    "def adam_gradient_descent(lr, x, y, w, b, previous_cost, threshold, max_iters):\n",
    "    m = x.shape[0]\n",
    "    iters = 0\n",
    "    cost_log = []\n",
    "    iteration_log = []\n",
    "    weight_log = []\n",
    "    bias_log = []\n",
    "\n",
    "    # Initialize Adam parameters\n",
    "    v_w = np.zeros_like(w)\n",
    "    v_b = 0.0\n",
    "    s_w = np.zeros_like(w)\n",
    "    s_b = 0.0\n",
    "    beta1 = 0.9\n",
    "    beta2 = 0.999\n",
    "    epsilon = 1e-8\n",
    "\n",
    "    while True:\n",
    "        dj_dw, dj_db = compute_gradient(x, y, w, b)\n",
    "\n",
    "        # Update biased first moment estimates\n",
    "        v_w = beta1 * v_w + (1 - beta1) * dj_dw\n",
    "        v_b = beta1 * v_b + (1 - beta1) * dj_db\n",
    "\n",
    "        # Update biased second moment estimates\n",
    "        s_w = beta2 * s_w + (1 - beta2) * (dj_dw ** 2)\n",
    "        s_b = beta2 * s_b + (1 - beta2) * (dj_db ** 2)\n",
    "\n",
    "        # Compute bias-corrected first moment estimates\n",
    "        v_w_corrected = v_w / (1 - beta1 ** (iters + 1))\n",
    "        v_b_corrected = v_b / (1 - beta1 ** (iters + 1))\n",
    "\n",
    "        # Compute bias-corrected second moment estimates\n",
    "        s_w_corrected = s_w / (1 - beta2 ** (iters + 1))\n",
    "        s_b_corrected = s_b / (1 - beta2 ** (iters + 1))\n",
    "\n",
    "        # Update parameters\n",
    "        w -= lr * v_w_corrected / (np.sqrt(s_w_corrected) + epsilon)\n",
    "        b -= lr * v_b_corrected / (np.sqrt(s_b_corrected) + epsilon)\n",
    "\n",
    "        current_cost = compute_cost(x, y, w, b)\n",
    "\n",
    "        if iters % 100 == 0:\n",
    "            print(f\"Iteration {iters} | Cost: {current_cost:.5f} | w: {w.ravel()} | b: {b:.5f}\")\n",
    "\n",
    "        if abs(current_cost - previous_cost) < threshold:\n",
    "            print(f\"Converged in {iters} iterations.\")\n",
    "            break\n",
    "\n",
    "        previous_cost = current_cost\n",
    "\n",
    "    return w, b\n",
    "    "
   ]
  },
  {
   "cell_type": "code",
   "execution_count": 23,
   "id": "aac64d8b",
   "metadata": {},
   "outputs": [],
   "source": [
    "#Converting X to polynomial features\n",
    "X = polynomial_features(X, degree=5)\n",
    "\n",
    "# Step 1: Shuffle the data\n",
    "np.random.seed(42)  # for reproducibility\n",
    "indices = np.arange(X.shape[0])\n",
    "np.random.shuffle(indices)\n",
    "\n",
    "X = X[indices]\n",
    "y = y[indices]\n",
    "\n",
    "\n",
    "# Step 2: 80/20 split\n",
    "split_index = int(0.8 * X.shape[0])\n",
    "X_train, X_test = X[:split_index], X[split_index:]\n",
    "y_train, y_test = y[:split_index], y[split_index:]\n",
    "\n",
    "\n",
    "# Step 3: Z-score normalization (standardization) for X\n",
    "mean = np.mean(X_train, axis=0)\n",
    "std = np.std(X_train, axis=0)\n",
    "\n",
    "# Avoid division by zero\n",
    "std[std == 0] = 1.0\n",
    "\n",
    "X_train_scaled = (X_train - mean) / std\n",
    "X_test_scaled = (X_test - mean) / std  # use train mean & std!\n",
    "\n",
    "# Step 4: Initialize parameters\n",
    "m, n = X_train_scaled.shape\n",
    "w = np.random.uniform(low=-1.0, high=1.0, size=(n, 1))\n",
    "b = 0.0"
   ]
  },
  {
   "cell_type": "markdown",
   "id": "3ccc7a24",
   "metadata": {},
   "source": [
    "**BGD with Adam optimizer**"
   ]
  },
  {
   "cell_type": "code",
   "execution_count": 24,
   "id": "de776255",
   "metadata": {},
   "outputs": [
    {
     "name": "stdout",
     "output_type": "stream",
     "text": [
      "Converged in 8029 iterations.\n"
     ]
    }
   ],
   "source": [
    "wf , bf = gradient_descent(0.2,X_train_scaled,y_train,w,b,method='adam',previous_cost=float('inf'),threshold=1e-7,max_iters=100000)"
   ]
  },
  {
   "cell_type": "markdown",
   "id": "654a2978",
   "metadata": {},
   "source": [
    "### **Model Evaluation**\n",
    "\n",
    "##### Training Set Metrics:"
   ]
  },
  {
   "cell_type": "code",
   "execution_count": 25,
   "id": "c4d8fd08",
   "metadata": {},
   "outputs": [
    {
     "name": "stdout",
     "output_type": "stream",
     "text": [
      "\n",
      "📊 Training Metrics (from sklearn):\n",
      "Mean Squared Error (MSE): 21.6996\n",
      "Mean Absolute Error (MAE): 4.0101\n",
      "R² Score: 0.9894\n"
     ]
    }
   ],
   "source": [
    "from sklearn.metrics import mean_squared_error, mean_absolute_error, r2_score\n",
    "\n",
    "y_pred_train = predict(X_train_scaled, wf, bf)\n",
    "\n",
    "# Calculate metrics\n",
    "mse_t = mean_squared_error(y_train, y_pred_train)\n",
    "mae_t = mean_absolute_error(y_train, y_pred_train)\n",
    "r2_t = r2_score(y_train, y_pred_train)\n",
    "\n",
    "# Print results\n",
    "print(f\"\\n📊 Training Metrics (from sklearn):\")\n",
    "print(f\"Mean Squared Error (MSE): {mse_t:.4f}\")\n",
    "print(f\"Mean Absolute Error (MAE): {mae_t:.4f}\")\n",
    "print(f\"R² Score: {r2_t:.4f}\")"
   ]
  },
  {
   "cell_type": "markdown",
   "id": "90acd767",
   "metadata": {},
   "source": [
    "##### **Testing Set Metrics**"
   ]
  },
  {
   "cell_type": "code",
   "execution_count": 26,
   "id": "4b95fd2a",
   "metadata": {},
   "outputs": [
    {
     "name": "stdout",
     "output_type": "stream",
     "text": [
      "\n",
      "📊 Test Metrics (from sklearn):\n",
      "Mean Squared Error (MSE): 87.8934\n",
      "Mean Absolute Error (MAE): 5.1873\n",
      "R² Score: 0.9677\n"
     ]
    }
   ],
   "source": [
    "# Predict on test set\n",
    "y_pred_test = predict(X_test_scaled, wf, bf)\n",
    "\n",
    "# Calculate metrics\n",
    "mse = mean_squared_error(y_test, y_pred_test)\n",
    "mae = mean_absolute_error(y_test, y_pred_test)\n",
    "r2 = r2_score(y_test, y_pred_test)\n",
    "\n",
    "# Print results\n",
    "print(f\"\\n📊 Test Metrics (from sklearn):\")\n",
    "print(f\"Mean Squared Error (MSE): {mse:.4f}\")\n",
    "print(f\"Mean Absolute Error (MAE): {mae:.4f}\")\n",
    "print(f\"R² Score: {r2:.4f}\")"
   ]
  },
  {
   "cell_type": "code",
   "execution_count": 27,
   "id": "3f1011f4",
   "metadata": {},
   "outputs": [
    {
     "data": {
      "text/plain": [
       "count    370.000000\n",
       "mean     275.091892\n",
       "std       47.093198\n",
       "min      128.000000\n",
       "25%      248.000000\n",
       "50%      279.000000\n",
       "75%      299.000000\n",
       "max      418.000000\n",
       "Name: CO2 Emissions(g/km), dtype: float64"
      ]
     },
     "execution_count": 27,
     "metadata": {},
     "output_type": "execute_result"
    }
   ],
   "source": [
    "df[\"CO2 Emissions(g/km)\"].describe()"
   ]
  },
  {
   "cell_type": "markdown",
   "id": "8e1b4d88",
   "metadata": {},
   "source": [
    "# Interpretation:\n",
    "\n",
    "✅ Test R² (0.9677) is very close to Train R² (0.9894) — great generalization, no overfitting\n",
    "\n",
    "✅ MSE Test (87.8934) vs MSE Train (21.6996) — MSE on test is high perhaps due to the Outlier seen in residual scatter plot. MSE is prone to Outliers. On the other hand MAE:\n",
    "\n",
    "✅ MAE Test (5.1873) vs MAE Train (4.0101) — MAE on Test is marginally higher. Which might suggest or hint at slight overfitting. We shall test this by implementing Regularized Polynomial Regression next.\n",
    "\n",
    "✅ Both train & test performance confirm that optimization path is strong and stable."
   ]
  },
  {
   "cell_type": "markdown",
   "id": "2124fcd9",
   "metadata": {},
   "source": [
    "### **Visualizations:**"
   ]
  },
  {
   "cell_type": "code",
   "execution_count": 28,
   "id": "15d71239",
   "metadata": {},
   "outputs": [
    {
     "data": {
      "image/png": "[encoded data removed]",
      "text/plain": [
       "<Figure size 800x500 with 1 Axes>"
      ]
     },
     "metadata": {},
     "output_type": "display_data"
    }
   ],
   "source": [
    "plt.figure(figsize=(8, 5))\n",
    "plt.style.use('default')\n",
    "\n",
    "plt.scatter(y_test, y_pred_test, color='lime', alpha=0.7)\n",
    "plt.plot([y_test.min(), y_test.max()], [y_test.min(), y_test.max()], color='white', linestyle='--')\n",
    "\n",
    "plt.gca().set_facecolor('black')\n",
    "plt.gcf().patch.set_facecolor('black')  # This line removes the white outer area\n",
    "\n",
    "plt.xlabel(\"Actual y\", color='white')\n",
    "plt.ylabel(\"Predicted y\", color='white')\n",
    "plt.title(\"Predicted vs Actual\", color='white')\n",
    "plt.tick_params(colors='white')\n",
    "\n",
    "for spine in plt.gca().spines.values():\n",
    "    spine.set_color('white')\n",
    "\n",
    "plt.grid(True, linestyle=':', color='white', alpha=0.1)\n",
    "plt.show()"
   ]
  },
  {
   "cell_type": "markdown",
   "id": "11af3c0c",
   "metadata": {},
   "source": [
    "Most predictions are close to the dashed line, Which means Model predicts exceptionally well. \n",
    "As suspected 1 outlier spoils the MAE and MSE."
   ]
  },
  {
   "cell_type": "code",
   "execution_count": 29,
   "id": "c7c1eed1",
   "metadata": {},
   "outputs": [
    {
     "data": {
      "image/png": "[encoded data removed]",
      "text/plain": [
       "<Figure size 800x500 with 1 Axes>"
      ]
     },
     "metadata": {},
     "output_type": "display_data"
    }
   ],
   "source": [
    "residuals = y_test - y_pred_test\n",
    "\n",
    "plt.figure(figsize=(8, 5))\n",
    "plt.style.use('default')\n",
    "\n",
    "# Basic plot with lime points and black background\n",
    "plt.scatter(y_pred_test, residuals, color='lime', alpha=0.7)\n",
    "plt.axhline(0, color='white', linestyle='--')\n",
    "\n",
    "# Black background and white text\n",
    "plt.gca().set_facecolor('black')\n",
    "plt.gcf().patch.set_facecolor('black')  # This line removes the white outer area\n",
    "plt.xlabel(\"Predicted C02 Emmisions\", color='white')\n",
    "plt.ylabel(\"Residuals\", color='white')\n",
    "plt.title(\"Residuals vs Predicted\", color='white')\n",
    "plt.tick_params(colors='white')\n",
    "\n",
    "# White border\n",
    "for spine in plt.gca().spines.values():\n",
    "    spine.set_color('white')\n",
    "\n",
    "plt.grid(True, linestyle=':', color='white', alpha=0.1)\n",
    "plt.show()"
   ]
  },
  {
   "cell_type": "markdown",
   "id": "ddd914e3",
   "metadata": {},
   "source": [
    "Due to the outlier it is hard to extrapolate anything. But upon close inspection. One can deduce the model might need some L2 regularization to improve the scatter and combat potential overfitting"
   ]
  },
  {
   "cell_type": "code",
   "execution_count": null,
   "id": "b4473fab",
   "metadata": {},
   "outputs": [],
   "source": [
    "#save_weights_to_npy(wf, bf,std, mean)"
   ]
  }
 ],
 "metadata": {
  "kernelspec": {
   "display_name": "base",
   "language": "python",
   "name": "python3"
  },
  "language_info": {
   "codemirror_mode": {
    "name": "ipython",
    "version": 3
   },
   "file_extension": ".py",
   "mimetype": "text/x-python",
   "name": "python",
   "nbconvert_exporter": "python",
   "pygments_lexer": "ipython3",
   "version": "3.11.5"
  }
 },
 "nbformat": 4,
 "nbformat_minor": 5
}
