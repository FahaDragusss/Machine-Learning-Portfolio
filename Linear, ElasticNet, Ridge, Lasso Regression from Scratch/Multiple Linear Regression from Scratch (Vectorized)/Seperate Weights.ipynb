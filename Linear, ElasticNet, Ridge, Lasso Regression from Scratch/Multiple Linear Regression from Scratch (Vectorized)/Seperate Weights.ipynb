{
 "cells": [
  {
   "cell_type": "code",
   "execution_count": 11,
   "id": "66f51b6a",
   "metadata": {},
   "outputs": [
    {
     "name": "stdout",
     "output_type": "stream",
     "text": [
      "   iteration        cost      bias        w0        w1        w2        w3  \\\n",
      "0          0  296.719386  0.014803  0.655075 -0.453066  0.930116 -0.086387   \n",
      "1        200  220.728480  2.793139  0.524000  0.128569  0.851550 -0.236036   \n",
      "2        400  169.126533  5.238067  0.399892  0.454825  0.774968 -0.336589   \n",
      "3        600  131.257628  7.389598  0.285728  0.640384  0.703677 -0.406149   \n",
      "4        800  102.532389  9.282939  0.182362  0.747471  0.638931 -0.455297   \n",
      "\n",
      "         w4        w5        w6        w7        w8        w9  \n",
      "0  0.680806 -0.613792 -0.175100  0.394947 -0.727235 -0.738457  \n",
      "1  0.211304 -1.019242  0.126910 -0.221598 -1.311686 -1.326811  \n",
      "2 -0.020341 -1.280885  0.248159 -0.570299 -1.622534 -1.645336  \n",
      "3 -0.126569 -1.461366  0.275573 -0.774302 -1.786566 -1.819444  \n",
      "4 -0.167440 -1.594699  0.255519 -0.899904 -1.871960 -1.916467  \n"
     ]
    }
   ],
   "source": [
    "import pandas as pd\n",
    "import ast  # To safely evaluate string as list\n",
    "\n",
    "# Load your CSV\n",
    "df = pd.read_csv(\"gd_convergence_log.csv\")\n",
    "\n",
    "# Convert string to list\n",
    "df['weight_log'] = df['weight_log'].apply(ast.literal_eval)\n",
    "\n",
    "# Now expand the list into separate columns\n",
    "weights_df = df['weight_log'].apply(pd.Series)\n",
    "\n",
    "# Rename the columns to w0, w1, ..., wn\n",
    "weights_df.columns = [f'w{i}' for i in weights_df.columns]\n",
    "\n",
    "# (Optional) Combine with the original dataframe\n",
    "df_final = pd.concat([df.drop(columns='weight_log'), weights_df], axis=1)\n",
    "\n",
    "# View the result\n",
    "print(df_final.head())\n",
    "\n",
    "df_final.to_csv(\"convergence_log.csv\")\n"
   ]
  }
 ],
 "metadata": {
  "kernelspec": {
   "display_name": "base",
   "language": "python",
   "name": "python3"
  },
  "language_info": {
   "codemirror_mode": {
    "name": "ipython",
    "version": 3
   },
   "file_extension": ".py",
   "mimetype": "text/x-python",
   "name": "python",
   "nbconvert_exporter": "python",
   "pygments_lexer": "ipython3",
   "version": "3.11.5"
  }
 },
 "nbformat": 4,
 "nbformat_minor": 5
}
