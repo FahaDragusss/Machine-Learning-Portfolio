{
 "cells": [
  {
   "cell_type": "code",
   "execution_count": null,
   "id": "766df5f4",
   "metadata": {},
   "outputs": [],
   "source": [
    "import pandas as pd\n",
    "import numpy as np\n",
    "\n",
    "df = pd.read_csv(\"test.csv\")\n",
    "\n",
    "x , y = df['x'] , df['y']\n",
    "\n",
    "m,n = x.shape\n",
    "\n",
    "w = np.random.rand(n, 1)\n",
    "\n",
    "b = .0\n",
    "\n",
    "y = y.reshape(-1,1)\n"
   ]
  },
  {
   "cell_type": "markdown",
   "id": "463f21ef",
   "metadata": {},
   "source": [
    "**# Linear Regression model from Scratch**"
   ]
  },
  {
   "cell_type": "code",
   "execution_count": 9,
   "id": "97eb0e0d",
   "metadata": {},
   "outputs": [],
   "source": [
    "#Functions\n",
    "\n",
    "def Compute_cost(X,y,w,b):\n",
    "    m,n = x.shape\n",
    "\n",
    "    f_wb = np.dot(x,w) + b\n",
    "    cost = (1/(2 *m)) * np.sum((f_wb - y)**2)\n",
    "    return cost\n",
    "    \n",
    "def compute_gradient(x, y, w, b):\n",
    "    m, n = x.shape\n",
    "    dj_dw = np.zeros((n, 1))\n",
    "    dj_db = 0.0\n",
    "\n",
    "    for i in range(m):\n",
    "        f_wb_i = np.dot(x[i], w).item() + b    # scalar prediction\n",
    "        error_i = f_wb_i - y[i]\n",
    "\n",
    "        for j in range(n):\n",
    "            dj_dw[j] += error_i * x[i][j]\n",
    "\n",
    "        dj_db += error_i\n",
    "\n",
    "    dj_dw = dj_dw / m\n",
    "    dj_db = dj_db / m\n",
    "\n",
    "    return dj_dw, dj_db\n",
    "\n",
    "\n"
   ]
  }
 ],
 "metadata": {
  "kernelspec": {
   "display_name": "base",
   "language": "python",
   "name": "python3"
  },
  "language_info": {
   "codemirror_mode": {
    "name": "ipython",
    "version": 3
   },
   "file_extension": ".py",
   "mimetype": "text/x-python",
   "name": "python",
   "nbconvert_exporter": "python",
   "pygments_lexer": "ipython3",
   "version": "3.11.5"
  }
 },
 "nbformat": 4,
 "nbformat_minor": 5
}
